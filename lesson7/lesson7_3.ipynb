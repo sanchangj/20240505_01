{
 "cells": [
  {
   "cell_type": "code",
   "execution_count": 4,
   "metadata": {},
   "outputs": [
    {
     "name": "stdout",
     "output_type": "stream",
     "text": [
      "Hello!\n"
     ]
    }
   ],
   "source": [
    "\n",
    "def sayHello():\n",
    "    print(\"Hello!\")\n",
    "\n",
    "sayHello()"
   ]
  },
  {
   "cell_type": "code",
   "execution_count": 5,
   "metadata": {},
   "outputs": [
    {
     "name": "stdout",
     "output_type": "stream",
     "text": [
      "0.9707148875288103\n"
     ]
    }
   ],
   "source": [
    "#function有傳出值\n",
    "import random\n",
    "def getRandomNum()->float:\n",
    "    return random.random()\n",
    "\n",
    "n:float = getRandomNum()\n",
    "print(n)"
   ]
  },
  {
   "cell_type": "code",
   "execution_count": 8,
   "metadata": {},
   "outputs": [
    {
     "name": "stdout",
     "output_type": "stream",
     "text": [
      "Hello!Robert\n",
      "Hello!徐國堂\n"
     ]
    }
   ],
   "source": [
    "#一個參數\n",
    "def sayHello(n:str)->None:\n",
    "    name:str = n\n",
    "    print(f\"Hello!{name}\")\n",
    "\n",
    "sayHello(\"Robert\") #引數值\n",
    "sayHello(n=\"徐國堂\") #引數名稱的呼叫"
   ]
  },
  {
   "cell_type": "code",
   "execution_count": 14,
   "metadata": {},
   "outputs": [
    {
     "name": "stdout",
     "output_type": "stream",
     "text": [
      "50\n",
      "50\n"
     ]
    }
   ],
   "source": [
    "#2個參數\n",
    "#傳出值int\n",
    "\n",
    "def multiply(a:int,b:int) -> int:\n",
    "    return a * b\n",
    "\n",
    "print(multiply(5,10))\n",
    "print(multiply(a=5,b=10))"
   ]
  },
  {
   "cell_type": "code",
   "execution_count": 9,
   "metadata": {},
   "outputs": [
    {
     "name": "stdout",
     "output_type": "stream",
     "text": [
      "請輸入查詢數值: 32\n",
      "32的因數: 1 2 4 8 16 32 \n",
      "程式結束\n"
     ]
    }
   ],
   "source": [
    "### 因數查詢\n",
    "\n",
    "import pyinputplus as pypi\n",
    "\n",
    "def get_factor(n:int)->None:\n",
    "    print(f\"{n}的因數: \",end='')\n",
    "    for i in range(1,n+1):\n",
    "        u:int = n%i\n",
    "        if u==0:\n",
    "            print(i ,end=' ')\n",
    "\n",
    "    print()\n",
    "\n",
    "\n",
    "mun:int = pypi.inputInt(\"請輸入查詢數值: \",min=1)\n",
    "print(mun)\n",
    "get_factor(mun)\n",
    "print(\"程式結束\")"
   ]
  },
  {
   "cell_type": "code",
   "execution_count": 12,
   "metadata": {},
   "outputs": [
    {
     "name": "stdout",
     "output_type": "stream",
     "text": [
      "\n",
      "52\n",
      "===========猜數字遊戲==================\n",
      "\n",
      "猜數字範圍1~100:50\n",
      "再大一點\n",
      "您已經猜了1次\n",
      "猜數字範圍51~100:51\n",
      "再大一點\n",
      "您已經猜了2次\n",
      "猜數字範圍52~100:52\n",
      "賓果!猜對了, 答案是:52\n",
      "您猜了3次\n",
      "請問還要繼續嗎?(y,n)\n",
      "25\n",
      "===========猜數字遊戲==================\n",
      "\n",
      "猜數字範圍1~100:25\n",
      "賓果!猜對了, 答案是:25\n",
      "您猜了1次\n",
      "請問還要繼續嗎?(y,n)\n",
      "遊戲結束\n"
     ]
    }
   ],
   "source": [
    "import random\n",
    "import pyinputplus as pypi\n",
    "\n",
    "while(True):\n",
    "    min:int = 1\n",
    "    max:int = 100\n",
    "    count:int = 0\n",
    "    print()\n",
    "\n",
    "    target:int = random.randint(min,max)\n",
    "    print(target)\n",
    "    print(\"===========猜數字遊戲==================\\n\")\n",
    "    while(True):    \n",
    "        keyin:int = pypi.inputInt(f\"猜數字範圍{min}~{max}:\",min=min,max=max)\n",
    "        print(keyin)\n",
    "        count += 1\n",
    "        if keyin == target:\n",
    "            print(f\"賓果!猜對了, 答案是:{keyin}\")\n",
    "            print(f\"您猜了{count}次\")\n",
    "            break\n",
    "        elif(keyin > target):\n",
    "            print(\"再小一點\")\n",
    "            max = keyin - 1\n",
    "            \n",
    "        elif(keyin < target):\n",
    "            print(\"再大一點\")\n",
    "            min = keyin + 1\n",
    "            \n",
    "        print(f\"您已經猜了{count}次\")\n",
    "    play_again:str = pypi.inputYesNo(\"請問還要繼續嗎?(y,n)\")\n",
    "    if play_again == 'no':\n",
    "        break\n",
    "print()\n",
    "print(\"遊戲結束\")"
   ]
  }
 ],
 "metadata": {
  "kernelspec": {
   "display_name": "Python 3",
   "language": "python",
   "name": "python3"
  },
  "language_info": {
   "codemirror_mode": {
    "name": "ipython",
    "version": 3
   },
   "file_extension": ".py",
   "mimetype": "text/x-python",
   "name": "python",
   "nbconvert_exporter": "python",
   "pygments_lexer": "ipython3",
   "version": "3.10.14"
  }
 },
 "nbformat": 4,
 "nbformat_minor": 2
}
