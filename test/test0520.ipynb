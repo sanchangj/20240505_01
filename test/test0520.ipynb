{
 "cells": [
  {
   "cell_type": "code",
   "execution_count": 14,
   "metadata": {},
   "outputs": [
    {
     "name": "stdout",
     "output_type": "stream",
     "text": [
      "3.142\n"
     ]
    }
   ],
   "source": [
    "pi=3.14159\n",
    "p=round(pi,ndigits=3)\n",
    "print(p)"
   ]
  },
  {
   "cell_type": "code",
   "execution_count": 7,
   "metadata": {},
   "outputs": [
    {
     "name": "stdout",
     "output_type": "stream",
     "text": [
      "請輸入第一數字: 31\n",
      "請輸入第二數字: 30\n",
      "31,30的公因數:  1 \n",
      "30,31互質\n",
      "程式結束\n"
     ]
    }
   ],
   "source": [
    "import pyinputplus as pypi\n",
    "mun1 = pypi.inputInt(\"請輸入第一數字: \", min=1)\n",
    "print( mun1)\n",
    "mun2 = pypi.inputInt(\"請輸入第二數字: \", min=1)\n",
    "print( mun2)\n",
    "\n",
    "print(f\"{mun1},{mun2}的公因數: \",end=' ')\n",
    "if mun1>mun2:\n",
    "    mun1,mun2=mun2,mun1\n",
    "\n",
    "for i in range(1,mun1+1):\n",
    "    u= mun1%i\n",
    "    if u == 0:\n",
    "        v=mun2%i\n",
    "        if v==0:\n",
    "            print(i,end=' ')\n",
    "            n=i\n",
    "print()\n",
    "if n == 1:\n",
    "    print(f\"{mun1},{mun2}互質\")\n",
    "else:\n",
    "    print(f\"最大公因數= {n}\")\n",
    "\n",
    "print(\"程式結束\")\n"
   ]
  }
 ],
 "metadata": {
  "kernelspec": {
   "display_name": "Python 3",
   "language": "python",
   "name": "python3"
  },
  "language_info": {
   "codemirror_mode": {
    "name": "ipython",
    "version": 3
   },
   "file_extension": ".py",
   "mimetype": "text/x-python",
   "name": "python",
   "nbconvert_exporter": "python",
   "pygments_lexer": "ipython3",
   "version": "3.10.14"
  }
 },
 "nbformat": 4,
 "nbformat_minor": 2
}
