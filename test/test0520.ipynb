{
 "cells": [
  {
   "cell_type": "code",
   "execution_count": 14,
   "metadata": {},
   "outputs": [
    {
     "name": "stdout",
     "output_type": "stream",
     "text": [
      "3.142\n"
     ]
    }
   ],
   "source": [
    "pi=3.14159\n",
    "p=round(pi,ndigits=3)\n",
    "print(p)"
   ]
  },
  {
   "cell_type": "code",
   "execution_count": 15,
   "metadata": {},
   "outputs": [
    {
     "name": "stdout",
     "output_type": "stream",
     "text": [
      "請輸入第一數字: 21\n",
      "請輸入第二數字: 300\n",
      "21,300的最小公倍數: 2100.0\n",
      "程式結束\n"
     ]
    }
   ],
   "source": [
    "## 求兩數的最小公倍數\n",
    "\n",
    "import pyinputplus as pypi\n",
    "mun1 = pypi.inputInt(\"請輸入第一數字: \", min=1)\n",
    "print( mun1)\n",
    "mun2 = pypi.inputInt(\"請輸入第二數字: \", min=1)\n",
    "print( mun2)\n",
    "\n",
    "\n",
    "for i in range(1,mun1+1):\n",
    "    u= mun1%i\n",
    "    if u == 0:\n",
    "        v=mun2%i\n",
    "        if v==0:\n",
    "           n = mun1*mun2/i\n",
    "          \n",
    "print(f\"{mun1},{mun2}的最小公倍數: {n}\")\n",
    "print(\"程式結束\")\n"
   ]
  },
  {
   "cell_type": "code",
   "execution_count": 1,
   "metadata": {},
   "outputs": [
    {
     "name": "stdout",
     "output_type": "stream",
     "text": [
      "請輸入第一數字: "
     ]
    },
    {
     "name": "stdout",
     "output_type": "stream",
     "text": [
      "35\n",
      "請輸入第二數字: 49\n",
      "35,49的公因數:  1 7 \n",
      "最大公因數= 7\n",
      "程式結束\n"
     ]
    }
   ],
   "source": [
    "#公因數和最大公因數\n",
    "\n",
    "\n",
    "import pyinputplus as pypi\n",
    "mun1 = pypi.inputInt(\"請輸入第一數字: \", min=1)\n",
    "print( mun1)\n",
    "mun2 = pypi.inputInt(\"請輸入第二數字: \", min=1)\n",
    "print( mun2)\n",
    "\n",
    "print(f\"{mun1},{mun2}的公因數: \",end=' ')\n",
    "if mun1>mun2:\n",
    "    mun1,mun2=mun2,mun1\n",
    "\n",
    "for i in range(1,mun1+1):\n",
    "    u= mun1%i\n",
    "    if u == 0:\n",
    "        v=mun2%i\n",
    "        if v==0:\n",
    "            print(i,end=' ')\n",
    "            n=i\n",
    "print()\n",
    "if n == 1:\n",
    "    print(f\"{mun1},{mun2}互質\")\n",
    "else:\n",
    "    print(f\"最大公因數= {n}\")\n",
    "\n",
    "print(\"程式結束\")"
   ]
  },
  {
   "cell_type": "code",
   "execution_count": 2,
   "metadata": {},
   "outputs": [
    {
     "name": "stdout",
     "output_type": "stream",
     "text": [
      "請輸入第一數字: 21\n",
      "請輸入第二數字: 99\n",
      "21,99的公因數:  1 3 \n",
      "最大公因數= 3\n",
      "21,99的最小公倍數: 693\n",
      "程式結束\n"
     ]
    }
   ],
   "source": [
    "## 可求兩數的公因數. 最大公因數. 最小公倍數\n",
    "\n",
    "import pyinputplus as pypi\n",
    "mun1 = pypi.inputInt(\"請輸入第一數字: \", min=1)\n",
    "print( mun1)\n",
    "mun2 = pypi.inputInt(\"請輸入第二數字: \", min=1)\n",
    "print( mun2)\n",
    "\n",
    "print(f\"{mun1},{mun2}的公因數: \",end=' ')\n",
    "if mun1>mun2:\n",
    "    mun1,mun2=mun2,mun1\n",
    "\n",
    "for i in range(1,mun1+1):\n",
    "    u= mun1%i\n",
    "    if u == 0:\n",
    "        v=mun2%i\n",
    "        if v==0:\n",
    "            x = int(mun1*mun2/i)\n",
    "            print(i,end=' ')\n",
    "            n=i\n",
    "print()\n",
    "if n == 1:\n",
    "    print(f\"{mun1},{mun2}互質\")\n",
    "else:\n",
    "    print(f\"最大公因數= {n}\")\n",
    "print(f\"{mun1},{mun2}的最小公倍數: {x}\")\n",
    "\n",
    "print(\"程式結束\")"
   ]
  },
  {
   "cell_type": "code",
   "execution_count": 5,
   "metadata": {},
   "outputs": [
    {
     "name": "stdout",
     "output_type": "stream",
     "text": [
      "請輸入數字: 23.0\n",
      "請輸入數字: 21.0\n",
      "請輸入數字: 55.0\n",
      "請輸入數字: 66.0\n",
      "請輸入數字: 3.2\n",
      "請輸入數字: 56.0\n",
      "請輸入數字: 0.0\n",
      "總和: 224.2\n",
      "程式結束\n"
     ]
    }
   ],
   "source": [
    "import pyinputplus as pypi\n",
    "total=0\n",
    "\n",
    "\n",
    "while(True):\n",
    "    mun=pypi.inputFloat(\"請輸入數字: \")\n",
    "    print(mun)\n",
    "    total += mun\n",
    "    if mun ==0:\n",
    "        print(f\"總和: {total}\")\n",
    "        break\n",
    "\n",
    "print(\"程式結束\")"
   ]
  },
  {
   "cell_type": "code",
   "execution_count": 1,
   "metadata": {},
   "outputs": [
    {
     "name": "stdout",
     "output_type": "stream",
     "text": [
      "姓名:san\n",
      "你的身高:170.0\n",
      "你的體重:77.0\n",
      "你的BMI:26.64\n",
      "你的體重過重\n"
     ]
    }
   ],
   "source": [
    "name=input(\"請輸入姓名:\")\n",
    "height=float(input(\"請輸入身高(cm):\"))\n",
    "weight= float(input(\"請輸入體重(kg):\"))\n",
    "\n",
    "bmi=weight/(height/100)**2\n",
    "\n",
    "print(f\"姓名:{name}\")\n",
    "print(f\"你的身高:{height}\")\n",
    "print(f\"你的體重:{weight}\")\n",
    "print(f\"你的BMI:{round(bmi,ndigits=2)}\")\n",
    "if bmi < 18.5:\n",
    "    print(\"你的體重過輕\")\n",
    "elif bmi < 24:\n",
    "    print(\"你的體重正常\")\n",
    "elif bmi < 27:\n",
    "    print(\"你的體重過重\")\n",
    "elif bmi < 30:\n",
    "    print(\"你的體重輕度肥胖\")\n",
    "elif bmi < 35:\n",
    "    print(\"你的體重中度肥胖\")\n",
    "else:\n",
    "    print(\"你的體重種度肥胖\")\n",
    "\n",
    "\n"
   ]
  },
  {
   "cell_type": "code",
   "execution_count": 27,
   "metadata": {},
   "outputs": [
    {
     "name": "stdout",
     "output_type": "stream",
     "text": [
      "請輸入姓名:san\n",
      "請輸入身高(cm):177.5\n",
      "請輸入體重(kg):68.3\n",
      "你的BMI:21.68\n",
      "你的體重正常\n"
     ]
    }
   ],
   "source": [
    "def cal_bmi(height:int,weight:int) -> float:\n",
    "    \n",
    "    return weight/(height/100)**2\n",
    "\n",
    "def get_status(BMI:float) -> str:\n",
    "    if BMI < 18.5:    \n",
    "        return \"你的體重過輕\"\n",
    "    elif BMI < 24:\n",
    "        return \"你的體重正常\"\n",
    "    elif BMI < 27:\n",
    "        return \"你的體重過重\"\n",
    "    elif BMI < 30:\n",
    "        return \"你的體重輕度肥胖\"\n",
    "    elif BMI < 35:\n",
    "        return \"你的體重中度肥胖\"\n",
    "    else:\n",
    "        return \"你的體重種度肥胖\" \n",
    "    \n",
    "import pyinputplus as pypi\n",
    "\n",
    "name:str=input(\"請輸入姓名:\")\n",
    "print(f\"請輸入姓名:{name}\")\n",
    "height:int= pypi.inputFloat(\"請輸入身高(cm):\")\n",
    "print(height)\n",
    "weight:int= pypi.inputFloat(\"請輸入體重(kg):\")\n",
    "print(weight)\n",
    "BMI:float = cal_bmi(height,weight)\n",
    "print(f\"你的BMI:{round(BMI,ndigits=2)}\")\n",
    "\n",
    "status=get_status(BMI)\n",
    "\n",
    "print(f\"{status}\")\n",
    "\n"
   ]
  }
 ],
 "metadata": {
  "kernelspec": {
   "display_name": "Python 3",
   "language": "python",
   "name": "python3"
  },
  "language_info": {
   "codemirror_mode": {
    "name": "ipython",
    "version": 3
   },
   "file_extension": ".py",
   "mimetype": "text/x-python",
   "name": "python",
   "nbconvert_exporter": "python",
   "pygments_lexer": "ipython3",
   "version": "3.10.14"
  }
 },
 "nbformat": 4,
 "nbformat_minor": 2
}
