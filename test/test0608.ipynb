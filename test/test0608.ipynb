{
 "cells": [
  {
   "cell_type": "code",
   "execution_count": null,
   "metadata": {},
   "outputs": [],
   "source": [
    "import pyinputplus as pypi\n",
    "\n",
    "def main\n",
    "\n",
    "name:str=input(\"請輸入姓名:\")\n",
    "print(f\"請輸入姓名:{name}\")\n",
    "height:int= pypi.inputFloat(\"請輸入身高(cm):\")\n",
    "print(height)\n",
    "weight:int= pypi.inputFloat(\"請輸入體重(kg):\")\n",
    "print(weight)\n",
    "BMI:float = cal_bmi(height,weight)\n",
    "print(f\"你的BMI:{round(BMI,ndigits=2)}\")"
   ]
  }
 ],
 "metadata": {
  "kernelspec": {
   "display_name": "Python 3",
   "language": "python",
   "name": "python3"
  },
  "language_info": {
   "name": "python",
   "version": "3.10.14"
  }
 },
 "nbformat": 4,
 "nbformat_minor": 2
}
