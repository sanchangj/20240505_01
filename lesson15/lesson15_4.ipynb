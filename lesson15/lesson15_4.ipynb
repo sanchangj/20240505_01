{
 "cells": [
  {
   "cell_type": "code",
   "execution_count": 1,
   "metadata": {},
   "outputs": [
    {
     "data": {
      "text/plain": [
       "array([[ 79,  53,  92,  94,  55],\n",
       "       [ 65,  70,  81,  62,  76],\n",
       "       [ 77,  52,  96,  60,  57],\n",
       "       [ 94,  73,  89,  50,  83],\n",
       "       [ 57,  88,  90,  73,  74],\n",
       "       [ 71,  61,  50,  98,  66],\n",
       "       [ 66,  54,  79,  58,  91],\n",
       "       [ 79,  66,  61,  57,  84],\n",
       "       [ 60,  52,  73,  90,  89],\n",
       "       [ 60,  57,  72,  79,  91],\n",
       "       [ 90,  84,  73,  88,  71],\n",
       "       [ 84,  83,  81,  75,  65],\n",
       "       [ 60,  99,  55,  73,  65],\n",
       "       [ 91,  99,  94,  93,  50],\n",
       "       [ 53,  90,  93,  99,  53],\n",
       "       [ 53,  70,  96,  54,  89],\n",
       "       [ 87,  52,  53,  89,  69],\n",
       "       [ 67,  69,  56,  51,  87],\n",
       "       [ 56,  91,  53,  90,  71],\n",
       "       [ 59,  71,  50,  84,  77],\n",
       "       [ 98,  77,  73,  78,  79],\n",
       "       [ 76,  85,  98,  56,  63],\n",
       "       [ 88,  85,  94,  53,  91],\n",
       "       [ 99,  77,  81,  93,  71],\n",
       "       [ 51,  64,  94,  55,  80],\n",
       "       [ 75,  85,  99,  80,  72],\n",
       "       [ 97,  50,  59,  93,  83],\n",
       "       [ 75,  67,  96,  55,  57],\n",
       "       [ 99,  54,  71,  57,  95],\n",
       "       [ 55,  57,  94,  54,  51],\n",
       "       [ 67,  88,  50,  53,  50],\n",
       "       [ 78,  54,  80,  75,  84],\n",
       "       [ 62,  76,  58,  76,  77],\n",
       "       [ 63,  54,  94,  66,  67],\n",
       "       [ 58,  87,  98,  81,  89],\n",
       "       [ 73,  78,  92,  56,  91],\n",
       "       [ 62,  69,  74, 100,  93],\n",
       "       [ 78,  97,  70,  83,  79],\n",
       "       [ 57,  84,  70,  67,  75],\n",
       "       [ 65,  98,  90,  50,  51],\n",
       "       [ 61,  86,  99,  93,  59],\n",
       "       [ 89,  85,  97,  70, 100],\n",
       "       [ 81,  82,  52,  51,  82],\n",
       "       [ 98,  64,  81,  92,  82],\n",
       "       [ 57,  77,  55,  53,  57],\n",
       "       [ 64,  71,  85, 100,  54],\n",
       "       [ 95,  90,  74,  98,  54],\n",
       "       [ 53,  65,  99,  76,  50],\n",
       "       [ 55,  70,  83,  88,  61],\n",
       "       [ 71,  80,  67,  94,  77]])"
      ]
     },
     "execution_count": 1,
     "metadata": {},
     "output_type": "execute_result"
    }
   ],
   "source": [
    "import numpy as np\n",
    "students = np.random.randint(50,101,size=(50,5))\n",
    "students"
   ]
  },
  {
   "cell_type": "code",
   "execution_count": 2,
   "metadata": {},
   "outputs": [
    {
     "data": {
      "text/plain": [
       "array([[ 64,  71,  85, 100,  54],\n",
       "       [ 95,  90,  74,  98,  54],\n",
       "       [ 53,  65,  99,  76,  50],\n",
       "       [ 55,  70,  83,  88,  61],\n",
       "       [ 71,  80,  67,  94,  77]])"
      ]
     },
     "execution_count": 2,
     "metadata": {},
     "output_type": "execute_result"
    }
   ],
   "source": [
    "students[0,0]\n",
    "students[:1,:]\n",
    "students[:1] #前一個學生\n",
    "students[:2] #前2個學生\n",
    "students[-5:] #最後5個學生"
   ]
  },
  {
   "cell_type": "code",
   "execution_count": 5,
   "metadata": {},
   "outputs": [
    {
     "name": "stdout",
     "output_type": "stream",
     "text": [
      "79\n"
     ]
    },
    {
     "data": {
      "text/plain": [
       "array([[79, 53, 92, 94, 55]])"
      ]
     },
     "execution_count": 5,
     "metadata": {},
     "output_type": "execute_result"
    }
   ],
   "source": [
    "print(students[0,0])\n",
    "students[:1,:]"
   ]
  },
  {
   "cell_type": "code",
   "execution_count": 7,
   "metadata": {},
   "outputs": [
    {
     "name": "stdout",
     "output_type": "stream",
     "text": [
      "[79 65 77 94 57 71 66 79 60 60 90 84 60 91 53 53 87 67 56 59 98 76 88 99\n",
      " 51 75 97 75 99 55 67 78 62 63 58 73 62 78 57 65 61 89 81 98 57 64 95 53\n",
      " 55 71]\n"
     ]
    },
    {
     "data": {
      "text/plain": [
       "array([ 55,  76,  57,  83,  74,  66,  91,  84,  89,  91,  71,  65,  65,\n",
       "        50,  53,  89,  69,  87,  71,  77,  79,  63,  91,  71,  80,  72,\n",
       "        83,  57,  95,  51,  50,  84,  77,  67,  89,  91,  93,  79,  75,\n",
       "        51,  59, 100,  82,  82,  57,  54,  54,  50,  61,  77])"
      ]
     },
     "execution_count": 7,
     "metadata": {},
     "output_type": "execute_result"
    }
   ],
   "source": [
    "print(students[:,0]) #第一科所有分數\n",
    "students[:,-1] #最後一科所有分數"
   ]
  },
  {
   "cell_type": "code",
   "execution_count": 9,
   "metadata": {},
   "outputs": [
    {
     "name": "stdout",
     "output_type": "stream",
     "text": [
      "373\n"
     ]
    },
    {
     "data": {
      "text/plain": [
       "array([69. , 74.5, 81. , 75.5, 74.5])"
      ]
     },
     "execution_count": 9,
     "metadata": {},
     "output_type": "execute_result"
    }
   ],
   "source": [
    "print(np.sum(students[:1])) #第一個學生總分\n",
    "np.sum(students[:2],axis=1) #前2個學生的總分 \n",
    "np.sum(students,axis=1) #全班每位學生的總分\n",
    "np.mean(students,axis=0) #每一科全班的平均\n",
    "np.median(students,axis=0) #每一科全班的中位數"
   ]
  }
 ],
 "metadata": {
  "kernelspec": {
   "display_name": "Python 3",
   "language": "python",
   "name": "python3"
  },
  "language_info": {
   "codemirror_mode": {
    "name": "ipython",
    "version": 3
   },
   "file_extension": ".py",
   "mimetype": "text/x-python",
   "name": "python",
   "nbconvert_exporter": "python",
   "pygments_lexer": "ipython3",
   "version": "3.10.14"
  }
 },
 "nbformat": 4,
 "nbformat_minor": 2
}
