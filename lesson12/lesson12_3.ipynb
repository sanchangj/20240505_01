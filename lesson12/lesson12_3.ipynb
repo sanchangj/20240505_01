{
 "cells": [
  {
   "cell_type": "code",
   "execution_count": null,
   "metadata": {},
   "outputs": [],
   "source": [
    "import csv\n",
    "from csv import DictReader\n",
    "with open('個股日成交資訊.csv',encoding='utf-8',newline='') as file:\n",
    "   reader:DictReader = csv.DictReader(file)\n",
    "   stocks:list[dict] = list(reader)\n",
    "\n",
    "stocks"
   ]
  },
  {
   "cell_type": "code",
   "execution_count": null,
   "metadata": {},
   "outputs": [],
   "source": [
    "from pydantic import BaseModel,Field,ValidationError,field_validator,RootModel\n",
    "\n",
    "class Stock(BaseModel):\n",
    "    證券名稱:str\n",
    "    成交股數:int\n",
    "    成交金額:int\n",
    "    最低價:float\n",
    "    最高價:float\n",
    "    成交筆數:int\n",
    "\n",
    "    @field_validator('最低價','最高價','成交股數','成交金額','成交筆數',mode='before')\n",
    "    @classmethod\n",
    "    def for_lowest_highest(cls,value:str) -> str:\n",
    "        return ''.join(value.split(','))\n",
    "\n",
    "\n",
    "\n",
    "class Root(RootModel):\n",
    "    root:list[Stock]\n",
    "\n",
    "root:Root = Root.model_validate(stocks)"
   ]
  },
  {
   "cell_type": "code",
   "execution_count": null,
   "metadata": {},
   "outputs": [],
   "source": [
    "stock_list:list[dict] = root.model_dump()\n",
    "stock_list"
   ]
  },
  {
   "cell_type": "code",
   "execution_count": null,
   "metadata": {},
   "outputs": [],
   "source": [
    "float(''.join('3,600.00'.split(',')))"
   ]
  },
  {
   "cell_type": "code",
   "execution_count": null,
   "metadata": {},
   "outputs": [],
   "source": [
    "float(''.join('600.00'.split(',')))"
   ]
  }
 ],
 "metadata": {
  "language_info": {
   "name": "python"
  }
 },
 "nbformat": 4,
 "nbformat_minor": 2
}
