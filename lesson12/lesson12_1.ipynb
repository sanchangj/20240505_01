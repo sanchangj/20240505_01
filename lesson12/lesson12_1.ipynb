{
 "cells": [
  {
   "cell_type": "code",
   "execution_count": 2,
   "metadata": {},
   "outputs": [
    {
     "name": "stdout",
     "output_type": "stream",
     "text": [
      "1 validation error for Root\n",
      "records.946.`pm2.5`\n",
      "  Input should be a valid number, unable to parse string as a number [type=float_parsing, input_value='', input_type=str]\n",
      "    For further information visit https://errors.pydantic.dev/2.7/v/float_parsing\n"
     ]
    }
   ],
   "source": [
    "from pydantic import BaseModel,Field,ValidationError\n",
    "\n",
    "class Record(BaseModel):\n",
    "    site_name:str = Field(alias='sitename')\n",
    "    county:str\n",
    "    aqi:int\n",
    "    status:str\n",
    "    pm25:float = Field(alias='pm2.5')\n",
    "\n",
    "class Root(BaseModel):\n",
    "    records:list[Record]\n",
    "\n",
    "\n",
    "with open('aqx_p_488.json',encoding='utf-8') as file:\n",
    "    json_content:str = file.read()\n",
    "\n",
    "try:\n",
    "    Root.model_validate_json(json_content)\n",
    "except ValidationError as error:\n",
    "    print(error)"
   ]
  },
  {
   "cell_type": "code",
   "execution_count": 3,
   "metadata": {},
   "outputs": [
    {
     "ename": "NameError",
     "evalue": "name 'aqies' is not defined",
     "output_type": "error",
     "traceback": [
      "\u001b[0;31m---------------------------------------------------------------------------\u001b[0m",
      "\u001b[0;31mNameError\u001b[0m                                 Traceback (most recent call last)",
      "Cell \u001b[0;32mIn[3], line 1\u001b[0m\n\u001b[0;32m----> 1\u001b[0m all_data\u001b[38;5;241m=\u001b[39m \u001b[43maqies\u001b[49m\u001b[38;5;241m.\u001b[39mmodel_dump() \u001b[38;5;66;03m#python的資料結構\u001b[39;00m\n\u001b[1;32m      2\u001b[0m \u001b[38;5;66;03m#aqies.model_dump_json()\u001b[39;00m\n\u001b[1;32m      3\u001b[0m data_list:\u001b[38;5;28mlist\u001b[39m[\u001b[38;5;28mdict\u001b[39m] \u001b[38;5;241m=\u001b[39m all_data[\u001b[38;5;124m'\u001b[39m\u001b[38;5;124mrecords\u001b[39m\u001b[38;5;124m'\u001b[39m]\n",
      "\u001b[0;31mNameError\u001b[0m: name 'aqies' is not defined"
     ]
    }
   ],
   "source": [
    "all_data= aqies.model_dump() #python的資料結構\n",
    "#aqies.model_dump_json()\n",
    "data_list:list[dict] = all_data['records']\n",
    "for item in data_list:\n",
    "    print(item)"
   ]
  },
  {
   "cell_type": "code",
   "execution_count": null,
   "metadata": {},
   "outputs": [
    {
     "data": {
      "text/plain": [
       "[2, 4, 6, 8, 10]"
      ]
     },
     "execution_count": 5,
     "metadata": {},
     "output_type": "execute_result"
    }
   ],
   "source": [
    "numbers:list[int] = [1,2,3,4,5,6,7,8,9,10]\n",
    "def is_even(num:int) -> bool | None:\n",
    "    if num % 2 == 0:\n",
    "        return True\n",
    "    \n",
    "    \n",
    "list(filter(is_even,numbers))"
   ]
  },
  {
   "cell_type": "code",
   "execution_count": null,
   "metadata": {},
   "outputs": [],
   "source": [
    "#這個if..else,一行的寫法\n",
    "1 if False else 2\n"
   ]
  },
  {
   "cell_type": "code",
   "execution_count": null,
   "metadata": {},
   "outputs": [
    {
     "data": {
      "text/plain": [
       "[2, 4, 6, 8, 10]"
      ]
     },
     "execution_count": 1,
     "metadata": {},
     "output_type": "execute_result"
    }
   ],
   "source": [
    "numbers:list[int] = [1,2,3,4,5,6,7,8,9,10]      \n",
    "list(filter(lambda num:True if num % 2 == 0 else None,numbers))"
   ]
  },
  {
   "cell_type": "code",
   "execution_count": 4,
   "metadata": {},
   "outputs": [
    {
     "ename": "NameError",
     "evalue": "name 'data_list' is not defined",
     "output_type": "error",
     "traceback": [
      "\u001b[0;31m---------------------------------------------------------------------------\u001b[0m",
      "\u001b[0;31mNameError\u001b[0m                                 Traceback (most recent call last)",
      "Cell \u001b[0;32mIn[4], line 7\u001b[0m\n\u001b[1;32m      4\u001b[0m     \u001b[38;5;28;01melse\u001b[39;00m:\n\u001b[1;32m      5\u001b[0m         \u001b[38;5;28;01mreturn\u001b[39;00m \u001b[38;5;28;01mTrue\u001b[39;00m\n\u001b[0;32m----> 7\u001b[0m filter_list:\u001b[38;5;28mlist\u001b[39m[\u001b[38;5;28mdict\u001b[39m] \u001b[38;5;241m=\u001b[39m \u001b[38;5;28mlist\u001b[39m(\u001b[38;5;28mfilter\u001b[39m(myfunction,\u001b[43mdata_list\u001b[49m))\n\u001b[1;32m      8\u001b[0m \u001b[38;5;28mlen\u001b[39m(filter_list)\n",
      "\u001b[0;31mNameError\u001b[0m: name 'data_list' is not defined"
     ]
    }
   ],
   "source": [
    "def myfunction(item:dict) -> bool:\n",
    "    if item['pm25'] == 0.0:\n",
    "        return False\n",
    "    else:\n",
    "        return True\n",
    "    \n",
    "filter_list:list[dict] = list(filter(myfunction,data_list))\n",
    "len(filter_list)"
   ]
  },
  {
   "cell_type": "code",
   "execution_count": null,
   "metadata": {},
   "outputs": [],
   "source": [
    "filter_list:list[dict] = list(filter(lambda item:False if item['pm25']==0 else True,data_list))\n",
    "len(filter_list)"
   ]
  },
  {
   "cell_type": "code",
   "execution_count": null,
   "metadata": {},
   "outputs": [],
   "source": [
    "numbers:list[int] = [21, 19, 92, 31, 91]\n",
    "#排序\n",
    "print(sorted(numbers))\n",
    "print(sorted(numbers,reverse=True))"
   ]
  },
  {
   "cell_type": "code",
   "execution_count": null,
   "metadata": {},
   "outputs": [],
   "source": [
    "def sorted_function(item:dict):\n",
    "    return item['pm25']\n",
    "\n",
    "sorted_pm25:list[dict] = sorted(filter_list,key=sorted_function)\n",
    "sorted_pm25[0:10]"
   ]
  },
  {
   "cell_type": "code",
   "execution_count": null,
   "metadata": {},
   "outputs": [],
   "source": [
    "sorted_aqi:list[dict] = sorted(filter_list,key=lambda item:item['aqi'])\n",
    "sorted_aqi[:10]\n",
    "sorted_aqi[-10:]"
   ]
  }
 ],
 "metadata": {
  "kernelspec": {
   "display_name": "Python 3",
   "language": "python",
   "name": "python3"
  },
  "language_info": {
   "codemirror_mode": {
    "name": "ipython",
    "version": 3
   },
   "file_extension": ".py",
   "mimetype": "text/x-python",
   "name": "python",
   "nbconvert_exporter": "python",
   "pygments_lexer": "ipython3",
   "version": "3.10.14"
  }
 },
 "nbformat": 4,
 "nbformat_minor": 2
}
