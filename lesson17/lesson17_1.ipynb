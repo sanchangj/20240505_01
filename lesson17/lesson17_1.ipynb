{
 "cells": [
  {
   "cell_type": "code",
   "execution_count": null,
   "metadata": {},
   "outputs": [],
   "source": [
    "import numpy as np\n",
    "import pandas as pd\n",
    "students = np.random.randint(50,101,size=(50,5))\n",
    "stu = pd.DataFrame(students,\n",
    "             columns=['國文','英文','數學','地理','歷史'],\n",
    "             index=[f'第{i}號' for i in range(1,51)]\n",
    "             )\n",
    "stu"
   ]
  },
  {
   "cell_type": "code",
   "execution_count": null,
   "metadata": {},
   "outputs": [],
   "source": [
    "#陣列運算,使用數學運算子\n",
    "stu['國文'] + stu['數學']"
   ]
  },
  {
   "cell_type": "code",
   "execution_count": null,
   "metadata": {},
   "outputs": [],
   "source": [
    "#陣列運算,使用比較運算子\n",
    "stu['國文'] <= 60"
   ]
  },
  {
   "cell_type": "code",
   "execution_count": null,
   "metadata": {},
   "outputs": [],
   "source": [
    "#Series執行統計的方法\n",
    "stu['國文'].sum()"
   ]
  },
  {
   "cell_type": "code",
   "execution_count": null,
   "metadata": {},
   "outputs": [],
   "source": [
    "#使用numpy統計方法\n",
    "import numpy as np\n",
    "np.sum(stu['國文'])"
   ]
  },
  {
   "cell_type": "code",
   "execution_count": null,
   "metadata": {},
   "outputs": [],
   "source": [
    "#DataFrame執行統計的方法\n",
    "stu\n",
    "stu['總分'] = stu.iloc[:,:5].sum(axis=1)\n",
    "stu['平均'] = stu.iloc[:,:5].mean(axis=1)\n",
    "stu"
   ]
  },
  {
   "cell_type": "code",
   "execution_count": null,
   "metadata": {},
   "outputs": [],
   "source": [
    "stu\n",
    "stu['總分'] = np.sum(stu.iloc[:,:5],axis=1)\n",
    "stu['平均'] = np.mean(stu.iloc[:,:5],axis=1)\n",
    "stu"
   ]
  },
  {
   "cell_type": "code",
   "execution_count": null,
   "metadata": {},
   "outputs": [],
   "source": [
    "#使用seires的索引和index name\n",
    "stu['總分'].iloc[0]\n",
    "stu['總分']['第1號']"
   ]
  },
  {
   "cell_type": "code",
   "execution_count": null,
   "metadata": {},
   "outputs": [],
   "source": [
    "#Series sort\n",
    "stu['總分'].sort_values()\n",
    "sorted_s = stu['總分'].sort_values(ascending=False)"
   ]
  },
  {
   "cell_type": "code",
   "execution_count": null,
   "metadata": {},
   "outputs": [],
   "source": [
    "#使用sort_values(),取出前5分\n",
    "sorted_s[:5]"
   ]
  },
  {
   "cell_type": "code",
   "execution_count": null,
   "metadata": {},
   "outputs": [],
   "source": [
    "#DataFrame sorted\n",
    "sorted_df = stu.sort_values(by='總分',ascending=False)\n",
    "sorted_df[:5]"
   ]
  },
  {
   "cell_type": "code",
   "execution_count": null,
   "metadata": {},
   "outputs": [],
   "source": [
    "sorted_df['排名'] = sorted_df['平均'].rank(ascending=False,method='first')\n",
    "sorted_df"
   ]
  },
  {
   "cell_type": "code",
   "execution_count": null,
   "metadata": {},
   "outputs": [],
   "source": [
    "#使用subscript,搜尋值-國文不及格的\n",
    "sorted_df[sorted_df['國文'] < 60]"
   ]
  },
  {
   "cell_type": "code",
   "execution_count": null,
   "metadata": {},
   "outputs": [],
   "source": [
    "#使用subscript,搜尋值-國文及格同時英文及格\n",
    "sorted_df[(sorted_df['國文'] >= 60) & (sorted_df['數學'] >= 60)]\n",
    "import numpy as np\n",
    "sorted_df[(sorted_df['國文'] >= 60) & (sorted_df['數學'] >= 60)].shape[0]"
   ]
  }
 ],
 "metadata": {
  "language_info": {
   "name": "python"
  }
 },
 "nbformat": 4,
 "nbformat_minor": 2
}
