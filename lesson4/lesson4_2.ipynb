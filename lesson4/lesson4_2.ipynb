{
 "cells": [
  {
   "cell_type": "code",
   "execution_count": 1,
   "metadata": {},
   "outputs": [
    {
     "data": {
      "text/plain": [
       "False"
      ]
     },
     "execution_count": 1,
     "metadata": {},
     "output_type": "execute_result"
    }
   ],
   "source": [
    "3 > 5\n",
    "False\n",
    "5 >= 5\n",
    "True\n",
    "5 == 3\n",
    "False\n",
    "3 != 3\n",
    "False"
   ]
  },
  {
   "cell_type": "code",
   "execution_count": 2,
   "metadata": {},
   "outputs": [
    {
     "name": "stdout",
     "output_type": "stream",
     "text": [
      "可以考駕照\n",
      "有投票權\n",
      "應用程式結束\n"
     ]
    }
   ],
   "source": [
    "age=1720\n",
    "\n",
    "if age >=18:\n",
    "    print(\"可以考駕照\")\n",
    "    print(\"有投票權\")\n",
    "\n",
    "else:\n",
    "    print(\"未成年\")\n",
    "\n",
    "print(\"應用程式結束\")"
   ]
  },
  {
   "cell_type": "code",
   "execution_count": 3,
   "metadata": {},
   "outputs": [
    {
     "name": "stdout",
     "output_type": "stream",
     "text": [
      "您的姓名是: san\n",
      "(您的身高(cm):) {170.0}\n",
      "(您的體重(kg):) {80.0}\n",
      "您的BMI值是:27.68\n"
     ]
    }
   ],
   "source": [
    "name = input(\"請輸入您的姓名\") \n",
    "height = float(input(\"請輸入您的身高(cm)\"))\n",
    "weight=float(input(\"請輸入您的體重(kg)\"))\n",
    "BMI = float(weight/(height/100)**2)\n",
    "print(\"您的姓名是:\",name)\n",
    "print(f\"(您的身高(cm):)\",{height})\n",
    "print(f\"(您的體重(kg):)\",{weight})\n",
    "      \n",
    "print(f\"您的BMI值是:{round(BMI,ndigits=2)}\")"
   ]
  }
 ],
 "metadata": {
  "kernelspec": {
   "display_name": "Python 3",
   "language": "python",
   "name": "python3"
  },
  "language_info": {
   "codemirror_mode": {
    "name": "ipython",
    "version": 3
   },
   "file_extension": ".py",
   "mimetype": "text/x-python",
   "name": "python",
   "nbconvert_exporter": "python",
   "pygments_lexer": "ipython3",
   "version": "3.10.14"
  }
 },
 "nbformat": 4,
 "nbformat_minor": 2
}
