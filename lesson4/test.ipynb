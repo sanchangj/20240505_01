{
 "cells": [
  {
   "cell_type": "code",
   "execution_count": 7,
   "metadata": {},
   "outputs": [
    {
     "name": "stdout",
     "output_type": "stream",
     "text": [
      "BMI= 22.49\n"
     ]
    }
   ],
   "source": [
    "long=float(input(\"請輸入身高(cm):\"))\n",
    "weigh=float(input(\"請輸入體重(kg):\"))\n",
    "bmi=weigh/(long/100)**2\n",
    "print(\"BMI=\",round(bmi,ndigits=2))"
   ]
  },
  {
   "cell_type": "code",
   "execution_count": 11,
   "metadata": {},
   "outputs": [
    {
     "name": "stdout",
     "output_type": "stream",
     "text": [
      "姓名:san\n",
      "你的身高:172.0\n",
      "你的體重:47.3\n",
      "你的BMI:15.99\n",
      "你的體重過輕\n"
     ]
    }
   ],
   "source": [
    "name=input(\"請輸入姓名:\")\n",
    "height=float(input(\"請輸入身高(cm):\"))\n",
    "weight= float(input(\"請輸入體重(kg):\"))\n",
    "\n",
    "bmi=weight/(height/100)**2\n",
    "\n",
    "print(f\"姓名:{name}\")\n",
    "print(f\"你的身高:{height}\")\n",
    "print(f\"你的體重:{weight}\")\n",
    "print(f\"你的BMI:{round(bmi,ndigits=2)}\")\n",
    "if bmi < 18.5:\n",
    "    print(\"你的體重過輕\")\n",
    "elif bmi < 24:\n",
    "    print(\"你的體重正常\")\n",
    "elif bmi < 27:\n",
    "    print(\"你的體重過重\")\n",
    "elif bmi < 30:\n",
    "    print(\"你的體重輕度肥胖\")\n",
    "elif bmi < 35:\n",
    "    print(\"你的體重中度肥胖\")\n",
    "else:\n",
    "    print(\"你的體重種度肥胖\")\n",
    "\n",
    "\n"
   ]
  }
 ],
 "metadata": {
  "kernelspec": {
   "display_name": "Python 3",
   "language": "python",
   "name": "python3"
  },
  "language_info": {
   "codemirror_mode": {
    "name": "ipython",
    "version": 3
   },
   "file_extension": ".py",
   "mimetype": "text/x-python",
   "name": "python",
   "nbconvert_exporter": "python",
   "pygments_lexer": "ipython3",
   "version": "3.10.14"
  }
 },
 "nbformat": 4,
 "nbformat_minor": 2
}
