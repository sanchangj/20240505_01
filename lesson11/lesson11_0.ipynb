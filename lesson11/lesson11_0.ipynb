{
 "cells": [
  {
   "cell_type": "code",
   "execution_count": 1,
   "metadata": {},
   "outputs": [
    {
     "name": "stdout",
     "output_type": "stream",
     "text": [
      "個股日成交資訊共有 1113 筆資料\n",
      "請輸入要隨機顯示的資料數(1~20): #748\n",
      "{ '證券代號': '3494',\n",
      "  '證券名稱': '誠研',\n",
      "  '成交股數': '232,000',\n",
      "  '成交金額': '744,580',\n",
      "  '開盤價': '3.21',\n",
      "  '最高價': '3.32',\n",
      "  '最低價': '3.16',\n",
      "  '收盤價': '3.22',\n",
      "  '漲跌價差': '+0.01',\n",
      "  '成交筆數': '69'}\n",
      "#523\n",
      "{ '證券代號': '2481',\n",
      "  '證券名稱': '強茂',\n",
      "  '成交股數': '5,235,953',\n",
      "  '成交金額': '82,985,270',\n",
      "  '開盤價': '16.35',\n",
      "  '最高價': '16.55',\n",
      "  '最低價': '15.00',\n",
      "  '收盤價': '15.20',\n",
      "  '漲跌價差': '-0.95',\n",
      "  '成交筆數': '3,087'}\n"
     ]
    }
   ],
   "source": [
    "import csv\n",
    "from csv import DictReader\n",
    "import pyinputplus as pyip\n",
    "from random import choices\n",
    "from pprint import pprint\n",
    "\n",
    "def main():\n",
    "    fname = \"個股日成交資訊.csv\"\n",
    "    with open(fname, encoding=\"UTF-8\", newline='') as f:\n",
    "        reader:DictReader = csv.DictReader(f)\n",
    "        lst:list[dict] = list(reader)\n",
    "        print(str.format(\"{}共有 {} 筆資料\", fname.removesuffix(\".csv\"), len(lst)))\n",
    "        n = pyip.inputInt(\"請輸入要隨機顯示的資料數(1~20): \", min=1, max=20)\n",
    "        lst_2:list[dict] = choices(lst, k=n)\n",
    "        for d in lst_2:\n",
    "             idx = lst.index(d)\n",
    "             print(f\"#{idx}\")\n",
    "             pprint(d, indent=2, sort_dicts=False)\n",
    "\n",
    "\n",
    "\n",
    "if  __name__ == '__main__':\n",
    "\tmain()"
   ]
  }
 ],
 "metadata": {
  "kernelspec": {
   "display_name": "Python 3",
   "language": "python",
   "name": "python3"
  },
  "language_info": {
   "codemirror_mode": {
    "name": "ipython",
    "version": 3
   },
   "file_extension": ".py",
   "mimetype": "text/x-python",
   "name": "python",
   "nbconvert_exporter": "python",
   "pygments_lexer": "ipython3",
   "version": "3.10.14"
  }
 },
 "nbformat": 4,
 "nbformat_minor": 2
}
